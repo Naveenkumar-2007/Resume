{
 "cells": [
  {
   "cell_type": "code",
   "execution_count": 8,
   "id": "459ca533",
   "metadata": {},
   "outputs": [],
   "source": [
    "import numpy as np \n",
    "import pandas as pd "
   ]
  },
  {
   "cell_type": "code",
   "execution_count": 2,
   "id": "15393636",
   "metadata": {},
   "outputs": [],
   "source": [
    "from nltk.corpus import stopwords\n",
    "from bs4 import BeautifulSoup"
   ]
  },
  {
   "cell_type": "code",
   "execution_count": 10,
   "id": "c6fa7d07",
   "metadata": {},
   "outputs": [
    {
     "name": "stderr",
     "output_type": "stream",
     "text": [
      "<>:1: SyntaxWarning: invalid escape sequence '\\d'\n",
      "<>:1: SyntaxWarning: invalid escape sequence '\\d'\n",
      "C:\\Users\\navee\\AppData\\Local\\Temp\\ipykernel_4216\\3346886667.py:1: SyntaxWarning: invalid escape sequence '\\d'\n",
      "  data=pd.read_csv('dataset\\data')\n"
     ]
    },
    {
     "data": {
      "text/html": [
       "<div>\n",
       "<style scoped>\n",
       "    .dataframe tbody tr th:only-of-type {\n",
       "        vertical-align: middle;\n",
       "    }\n",
       "\n",
       "    .dataframe tbody tr th {\n",
       "        vertical-align: top;\n",
       "    }\n",
       "\n",
       "    .dataframe thead th {\n",
       "        text-align: right;\n",
       "    }\n",
       "</style>\n",
       "<table border=\"1\" class=\"dataframe\">\n",
       "  <thead>\n",
       "    <tr style=\"text-align: right;\">\n",
       "      <th></th>\n",
       "      <th>Category</th>\n",
       "      <th>Resume</th>\n",
       "    </tr>\n",
       "  </thead>\n",
       "  <tbody>\n",
       "    <tr>\n",
       "      <th>0</th>\n",
       "      <td>Data Science</td>\n",
       "      <td>Skills * Programming Languages: Python (pandas...</td>\n",
       "    </tr>\n",
       "    <tr>\n",
       "      <th>1</th>\n",
       "      <td>Data Science</td>\n",
       "      <td>Education Details \\r\\nMay 2013 to May 2017 B.E...</td>\n",
       "    </tr>\n",
       "    <tr>\n",
       "      <th>2</th>\n",
       "      <td>Data Science</td>\n",
       "      <td>Areas of Interest Deep Learning, Control Syste...</td>\n",
       "    </tr>\n",
       "    <tr>\n",
       "      <th>3</th>\n",
       "      <td>Data Science</td>\n",
       "      <td>Skills â¢ R â¢ Python â¢ SAP HANA â¢ Table...</td>\n",
       "    </tr>\n",
       "    <tr>\n",
       "      <th>4</th>\n",
       "      <td>Data Science</td>\n",
       "      <td>Education Details \\r\\n MCA   YMCAUST,  Faridab...</td>\n",
       "    </tr>\n",
       "  </tbody>\n",
       "</table>\n",
       "</div>"
      ],
      "text/plain": [
       "       Category                                             Resume\n",
       "0  Data Science  Skills * Programming Languages: Python (pandas...\n",
       "1  Data Science  Education Details \\r\\nMay 2013 to May 2017 B.E...\n",
       "2  Data Science  Areas of Interest Deep Learning, Control Syste...\n",
       "3  Data Science  Skills â¢ R â¢ Python â¢ SAP HANA â¢ Table...\n",
       "4  Data Science  Education Details \\r\\n MCA   YMCAUST,  Faridab..."
      ]
     },
     "execution_count": 10,
     "metadata": {},
     "output_type": "execute_result"
    }
   ],
   "source": [
    "data=pd.read_csv('dataset\\data')\n",
    "data.head()"
   ]
  },
  {
   "cell_type": "code",
   "execution_count": 11,
   "id": "f6e79f51",
   "metadata": {},
   "outputs": [
    {
     "data": {
      "text/plain": [
       "Category    0\n",
       "Resume      0\n",
       "dtype: int64"
      ]
     },
     "execution_count": 11,
     "metadata": {},
     "output_type": "execute_result"
    }
   ],
   "source": [
    "data.isnull().sum()"
   ]
  },
  {
   "cell_type": "code",
   "execution_count": 20,
   "id": "c3cf1ac6",
   "metadata": {},
   "outputs": [
    {
     "data": {
      "text/plain": [
       "(962, 2)"
      ]
     },
     "execution_count": 20,
     "metadata": {},
     "output_type": "execute_result"
    }
   ],
   "source": [
    "data.shape"
   ]
  },
  {
   "cell_type": "code",
   "execution_count": 23,
   "id": "5e1a888c",
   "metadata": {},
   "outputs": [],
   "source": [
    "dp=data.sample(n=962,random_state=42)"
   ]
  },
  {
   "cell_type": "code",
   "execution_count": 24,
   "id": "5fdd9728",
   "metadata": {},
   "outputs": [
    {
     "data": {
      "text/html": [
       "<div>\n",
       "<style scoped>\n",
       "    .dataframe tbody tr th:only-of-type {\n",
       "        vertical-align: middle;\n",
       "    }\n",
       "\n",
       "    .dataframe tbody tr th {\n",
       "        vertical-align: top;\n",
       "    }\n",
       "\n",
       "    .dataframe thead th {\n",
       "        text-align: right;\n",
       "    }\n",
       "</style>\n",
       "<table border=\"1\" class=\"dataframe\">\n",
       "  <thead>\n",
       "    <tr style=\"text-align: right;\">\n",
       "      <th></th>\n",
       "      <th>Category</th>\n",
       "      <th>Resume</th>\n",
       "    </tr>\n",
       "  </thead>\n",
       "  <tbody>\n",
       "    <tr>\n",
       "      <th>344</th>\n",
       "      <td>Java Developer</td>\n",
       "      <td>TECHNICAL SKILLS Programming Languages: Java (...</td>\n",
       "    </tr>\n",
       "    <tr>\n",
       "      <th>381</th>\n",
       "      <td>Java Developer</td>\n",
       "      <td>TECHNICALSKILLS SpringMVC, Hibernate, JDBC, Ja...</td>\n",
       "    </tr>\n",
       "    <tr>\n",
       "      <th>351</th>\n",
       "      <td>Java Developer</td>\n",
       "      <td>Education Details \\r\\nJanuary 2013 Master of E...</td>\n",
       "    </tr>\n",
       "    <tr>\n",
       "      <th>778</th>\n",
       "      <td>Hadoop</td>\n",
       "      <td>Skill Set: Hadoop, Map Reduce, HDFS, Hive, Sqo...</td>\n",
       "    </tr>\n",
       "    <tr>\n",
       "      <th>277</th>\n",
       "      <td>Health and fitness</td>\n",
       "      <td>Education Details \\r\\nJanuary 1992 to January ...</td>\n",
       "    </tr>\n",
       "  </tbody>\n",
       "</table>\n",
       "</div>"
      ],
      "text/plain": [
       "               Category                                             Resume\n",
       "344      Java Developer  TECHNICAL SKILLS Programming Languages: Java (...\n",
       "381      Java Developer  TECHNICALSKILLS SpringMVC, Hibernate, JDBC, Ja...\n",
       "351      Java Developer  Education Details \\r\\nJanuary 2013 Master of E...\n",
       "778              Hadoop  Skill Set: Hadoop, Map Reduce, HDFS, Hive, Sqo...\n",
       "277  Health and fitness  Education Details \\r\\nJanuary 1992 to January ..."
      ]
     },
     "execution_count": 24,
     "metadata": {},
     "output_type": "execute_result"
    }
   ],
   "source": [
    "dp.head()"
   ]
  },
  {
   "cell_type": "code",
   "execution_count": 26,
   "id": "8871b081",
   "metadata": {},
   "outputs": [],
   "source": [
    "import re\n",
    "from nltk.corpus import stopwords\n",
    "from nltk.stem import WordNetLemmatizer\n",
    "from bs4 import BeautifulSoup\n",
    "##remove speacial charectors\n",
    "dp['Resume']=dp['Resume'].apply(lambda x:re.sub('[^a-z A-Z 0-9]','',x))\n",
    "##remove stopwords\n",
    "dp['Resume']=dp['Resume'].apply(lambda x:\" \".join([ wor for wor in x.split() if wor not in stopwords.words('english')]))\n",
    "##remove html tags\n",
    "dp['Resume']=dp['Resume'].apply(lambda x:BeautifulSoup(x,'lxml').get_text())\n",
    "#remove links\n",
    "dp['Resume']=dp['Resume'].apply(lambda x:re.sub(r'(http|https|ftp|ssh)://([\\w_-]+(?:(?:\\.[\\w_-]+)+))([\\w.,@?^=%&:/~+#-]*[\\w@?^=%&/~+#-])?','',str(x)))\n",
    "##remove spaces\n",
    "dp['Resume']=dp['Resume'].apply(lambda x:\" \".join(x.split()))"
   ]
  },
  {
   "cell_type": "code",
   "execution_count": 29,
   "id": "8021b394",
   "metadata": {},
   "outputs": [
    {
     "name": "stdout",
     "output_type": "stream",
     "text": [
      "0.9948186528497409\n",
      "                           precision    recall  f1-score   support\n",
      "\n",
      "                 Advocate       1.00      1.00      1.00         7\n",
      "                     Arts       1.00      1.00      1.00        11\n",
      "       Automation Testing       1.00      1.00      1.00         6\n",
      "               Blockchain       0.83      1.00      0.91         5\n",
      "         Business Analyst       1.00      1.00      1.00        10\n",
      "           Civil Engineer       1.00      1.00      1.00         6\n",
      "             Data Science       1.00      1.00      1.00         5\n",
      "                 Database       1.00      1.00      1.00         8\n",
      "          DevOps Engineer       1.00      0.83      0.91         6\n",
      "         DotNet Developer       1.00      1.00      1.00         5\n",
      "            ETL Developer       1.00      1.00      1.00         9\n",
      "   Electrical Engineering       1.00      1.00      1.00         5\n",
      "                       HR       1.00      1.00      1.00        12\n",
      "                   Hadoop       1.00      1.00      1.00         9\n",
      "       Health and fitness       1.00      1.00      1.00         8\n",
      "           Java Developer       1.00      1.00      1.00        15\n",
      "      Mechanical Engineer       1.00      1.00      1.00         8\n",
      "Network Security Engineer       1.00      1.00      1.00         4\n",
      "       Operations Manager       1.00      1.00      1.00         6\n",
      "                      PMO       1.00      1.00      1.00         7\n",
      "         Python Developer       1.00      1.00      1.00         7\n",
      "            SAP Developer       1.00      1.00      1.00         2\n",
      "                    Sales       1.00      1.00      1.00         6\n",
      "                  Testing       1.00      1.00      1.00        13\n",
      "            Web Designing       1.00      1.00      1.00        13\n",
      "\n",
      "                 accuracy                           0.99       193\n",
      "                macro avg       0.99      0.99      0.99       193\n",
      "             weighted avg       1.00      0.99      0.99       193\n",
      "\n"
     ]
    }
   ],
   "source": [
    "def convert_word(word):\n",
    "    return \" \".join(WordNetLemmatizer().lemmatize(i) for i in word.split())\n",
    "dp['Resume']=dp['Resume'].apply(lambda x:convert_word(x))\n",
    "from sklearn.model_selection import train_test_split\n",
    "x_train,x_test,y_train,y_test=train_test_split(dp['Resume'],dp['Category'],test_size=0.2,random_state=42)\n",
    "from sklearn.feature_extraction.text import CountVectorizer\n",
    "con=CountVectorizer()\n",
    "x_train_con=con.fit_transform(x_train)\n",
    "x_test_con=con.transform(x_test)\n",
    "from sklearn.linear_model import LogisticRegression\n",
    "from sklearn.metrics import accuracy_score,classification_report\n",
    "model_con=LogisticRegression()\n",
    "model_con.fit(x_train_con,y_train)\n",
    "y_predict_con=model_con.predict(x_test_con)\n",
    "accu=accuracy_score(y_test,y_predict_con)\n",
    "print(accu)\n",
    "print(classification_report(y_test,y_predict_con))"
   ]
  },
  {
   "cell_type": "code",
   "execution_count": 32,
   "id": "a46eec21",
   "metadata": {},
   "outputs": [
    {
     "name": "stdout",
     "output_type": "stream",
     "text": [
      "0.9948186528497409\n",
      "                           precision    recall  f1-score   support\n",
      "\n",
      "                 Advocate       1.00      1.00      1.00         7\n",
      "                     Arts       1.00      1.00      1.00        11\n",
      "       Automation Testing       1.00      1.00      1.00         6\n",
      "               Blockchain       1.00      1.00      1.00         5\n",
      "         Business Analyst       1.00      1.00      1.00        10\n",
      "           Civil Engineer       1.00      1.00      1.00         6\n",
      "             Data Science       1.00      1.00      1.00         5\n",
      "                 Database       1.00      1.00      1.00         8\n",
      "          DevOps Engineer       1.00      0.83      0.91         6\n",
      "         DotNet Developer       1.00      1.00      1.00         5\n",
      "            ETL Developer       1.00      1.00      1.00         9\n",
      "   Electrical Engineering       1.00      1.00      1.00         5\n",
      "                       HR       1.00      1.00      1.00        12\n",
      "                   Hadoop       1.00      1.00      1.00         9\n",
      "       Health and fitness       1.00      1.00      1.00         8\n",
      "           Java Developer       0.94      1.00      0.97        15\n",
      "      Mechanical Engineer       1.00      1.00      1.00         8\n",
      "Network Security Engineer       1.00      1.00      1.00         4\n",
      "       Operations Manager       1.00      1.00      1.00         6\n",
      "                      PMO       1.00      1.00      1.00         7\n",
      "         Python Developer       1.00      1.00      1.00         7\n",
      "            SAP Developer       1.00      1.00      1.00         2\n",
      "                    Sales       1.00      1.00      1.00         6\n",
      "                  Testing       1.00      1.00      1.00        13\n",
      "            Web Designing       1.00      1.00      1.00        13\n",
      "\n",
      "                 accuracy                           0.99       193\n",
      "                macro avg       1.00      0.99      1.00       193\n",
      "             weighted avg       1.00      0.99      0.99       193\n",
      "\n"
     ]
    }
   ],
   "source": [
    "from sklearn.feature_extraction.text import TfidfVectorizer\n",
    "tf=TfidfVectorizer()\n",
    "x_train_tf=tf.fit_transform(x_train)\n",
    "x_test_tf=tf.transform(x_test)\n",
    "from sklearn.linear_model import LogisticRegression\n",
    "from sklearn.metrics import accuracy_score,classification_report\n",
    "model_tf=LogisticRegression()\n",
    "model_tf.fit(x_train_tf,y_train)\n",
    "y_predict_tf=model_tf.predict(x_test_tf)\n",
    "accu=accuracy_score(y_test,y_predict_tf)\n",
    "print(accu)\n",
    "print(classification_report(y_test,y_predict_tf))"
   ]
  },
  {
   "cell_type": "code",
   "execution_count": 31,
   "id": "998dfbd3",
   "metadata": {},
   "outputs": [
    {
     "name": "stdout",
     "output_type": "stream",
     "text": [
      "0.24870466321243523\n",
      "                           precision    recall  f1-score   support\n",
      "\n",
      "                 Advocate       0.00      0.00      0.00         7\n",
      "                     Arts       0.67      0.36      0.47        11\n",
      "       Automation Testing       0.00      0.00      0.00         6\n",
      "               Blockchain       0.00      0.00      0.00         5\n",
      "         Business Analyst       0.00      0.00      0.00        10\n",
      "           Civil Engineer       0.00      0.00      0.00         6\n",
      "             Data Science       0.00      0.00      0.00         5\n",
      "                 Database       0.00      0.00      0.00         8\n",
      "          DevOps Engineer       0.09      0.67      0.16         6\n",
      "         DotNet Developer       0.00      0.00      0.00         5\n",
      "            ETL Developer       0.00      0.00      0.00         9\n",
      "   Electrical Engineering       0.00      0.00      0.00         5\n",
      "                       HR       1.00      0.33      0.50        12\n",
      "                   Hadoop       0.50      0.78      0.61         9\n",
      "       Health and fitness       1.00      0.12      0.22         8\n",
      "           Java Developer       0.26      0.80      0.39        15\n",
      "      Mechanical Engineer       1.00      0.12      0.22         8\n",
      "Network Security Engineer       0.00      0.00      0.00         4\n",
      "       Operations Manager       0.20      0.83      0.32         6\n",
      "                      PMO       0.00      0.00      0.00         7\n",
      "         Python Developer       0.67      0.29      0.40         7\n",
      "            SAP Developer       0.00      0.00      0.00         2\n",
      "                    Sales       0.00      0.00      0.00         6\n",
      "                  Testing       0.17      0.62      0.27        13\n",
      "            Web Designing       0.00      0.00      0.00        13\n",
      "\n",
      "                 accuracy                           0.25       193\n",
      "                macro avg       0.22      0.20      0.14       193\n",
      "             weighted avg       0.27      0.25      0.18       193\n",
      "\n"
     ]
    },
    {
     "name": "stderr",
     "output_type": "stream",
     "text": [
      "c:\\Users\\navee\\anaconda3\\Lib\\site-packages\\sklearn\\metrics\\_classification.py:1565: UndefinedMetricWarning: Precision is ill-defined and being set to 0.0 in labels with no predicted samples. Use `zero_division` parameter to control this behavior.\n",
      "  _warn_prf(average, modifier, f\"{metric.capitalize()} is\", len(result))\n",
      "c:\\Users\\navee\\anaconda3\\Lib\\site-packages\\sklearn\\metrics\\_classification.py:1565: UndefinedMetricWarning: Precision is ill-defined and being set to 0.0 in labels with no predicted samples. Use `zero_division` parameter to control this behavior.\n",
      "  _warn_prf(average, modifier, f\"{metric.capitalize()} is\", len(result))\n",
      "c:\\Users\\navee\\anaconda3\\Lib\\site-packages\\sklearn\\metrics\\_classification.py:1565: UndefinedMetricWarning: Precision is ill-defined and being set to 0.0 in labels with no predicted samples. Use `zero_division` parameter to control this behavior.\n",
      "  _warn_prf(average, modifier, f\"{metric.capitalize()} is\", len(result))\n"
     ]
    }
   ],
   "source": [
    "from gensim.models import Word2Vec\n",
    "w2vec_model=Word2Vec(sentences=x_train,vector_size=100,window=5)\n",
    "def get_wordvec(tokens,model,vector_size=100):\n",
    "    vectors=[model.wv[token] for token in tokens if token in model.wv]\n",
    "    if len(vectors)==0:\n",
    "        return np.zeros(vector_size)\n",
    "    return np.mean(vectors,axis=0)\n",
    "x_train_wo=np.array([get_wordvec(tokens,w2vec_model) for tokens in x_train])\n",
    "x_test_wo=np.array([get_wordvec(tokens,w2vec_model) for tokens in x_test])\n",
    "\n",
    "from sklearn.linear_model import LogisticRegression\n",
    "from sklearn.metrics import accuracy_score,classification_report\n",
    "model_w2=LogisticRegression()\n",
    "model_w2.fit(x_train_wo,y_train)\n",
    "y_predict_w2=model_w2.predict(x_test_wo)\n",
    "accu=accuracy_score(y_test,y_predict_w2)\n",
    "print(accu)\n",
    "print(classification_report(y_test,y_predict_w2))"
   ]
  },
  {
   "cell_type": "code",
   "execution_count": 33,
   "id": "2596e4cd",
   "metadata": {},
   "outputs": [],
   "source": [
    "import pickle\n",
    "with open('vector.pkl','wb') as f:\n",
    "    vector=pickle.dump(tf,f)\n",
    "with open('model.pkl','wb') as f:\n",
    "    vector=pickle.dump(model_tf,f)"
   ]
  },
  {
   "cell_type": "code",
   "execution_count": null,
   "id": "d263425c",
   "metadata": {},
   "outputs": [],
   "source": []
  },
  {
   "cell_type": "code",
   "execution_count": null,
   "id": "d22d8aef",
   "metadata": {},
   "outputs": [],
   "source": []
  },
  {
   "cell_type": "code",
   "execution_count": null,
   "id": "cb6f5c94",
   "metadata": {},
   "outputs": [],
   "source": []
  },
  {
   "cell_type": "code",
   "execution_count": null,
   "id": "9dfa3b38",
   "metadata": {},
   "outputs": [],
   "source": []
  },
  {
   "cell_type": "code",
   "execution_count": null,
   "id": "df988337",
   "metadata": {},
   "outputs": [],
   "source": []
  }
 ],
 "metadata": {
  "kernelspec": {
   "display_name": "base",
   "language": "python",
   "name": "python3"
  },
  "language_info": {
   "codemirror_mode": {
    "name": "ipython",
    "version": 3
   },
   "file_extension": ".py",
   "mimetype": "text/x-python",
   "name": "python",
   "nbconvert_exporter": "python",
   "pygments_lexer": "ipython3",
   "version": "3.12.7"
  }
 },
 "nbformat": 4,
 "nbformat_minor": 5
}
